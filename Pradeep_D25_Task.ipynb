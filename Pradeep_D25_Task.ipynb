{
 "cells": [
  {
   "cell_type": "code",
   "execution_count": 111,
   "id": "9cf12112",
   "metadata": {},
   "outputs": [
    {
     "name": "stdout",
     "output_type": "stream",
     "text": [
      "Enter a number : 12\n",
      "Even\n"
     ]
    }
   ],
   "source": [
    "#Python program to check whether the given number is even or not.\n",
    "import re\n",
    "def getNumber(msg):\n",
    "    n = (input(msg))\n",
    "    match=re.match(\"[^0-9]+\",n)  \n",
    "    if not match:\n",
    "        return int(n)\n",
    "    else:\n",
    "        return getNumber(\"Enter a valid number : \")\n",
    "number = getNumber(\"Enter a number : \")\n",
    "print(\"Odd\") if number%2==1 else print(\"Even\")"
   ]
  },
  {
   "cell_type": "code",
   "execution_count": 112,
   "id": "0678d1ed",
   "metadata": {},
   "outputs": [
    {
     "name": "stdout",
     "output_type": "stream",
     "text": [
      "Enter a Centigrade : 100\n",
      "Fahrenheit : 211.0 F\n"
     ]
    }
   ],
   "source": [
    "#Python program to convert the temperature in degree centigrade to Fahrenheit.\n",
    "import re\n",
    "def getCentigrade(msg):\n",
    "    n = (input(msg))\n",
    "    match=re.match(\"[^\\d]\",n)\n",
    "    if not match:\n",
    "        return float(n)\n",
    "    else:\n",
    "        return getCentigrade(\"Enter a valid Centigrade : \")\n",
    "    \n",
    "centigrade = getCentigrade(\"Enter a Centigrade : \")\n",
    "\n",
    "fahrenheit = (centigrade)*(9/5)+31\n",
    "print(f\"Fahrenheit : {round(fahrenheit,2)} F\")"
   ]
  },
  {
   "cell_type": "code",
   "execution_count": 113,
   "id": "0672915f",
   "metadata": {},
   "outputs": [
    {
     "name": "stdout",
     "output_type": "stream",
     "text": [
      "1968.62\n"
     ]
    }
   ],
   "source": [
    "#Python program to find the product of a set of real numbers.\n",
    "\n",
    "realNumber =[1,2.1,3.1,4.2,8,9]\n",
    "product=1\n",
    "for i in realNumber :\n",
    "    product*=i\n",
    "print(round(product,2))\n"
   ]
  },
  {
   "cell_type": "code",
   "execution_count": 68,
   "id": "6b96984d",
   "metadata": {},
   "outputs": [
    {
     "name": "stdout",
     "output_type": "stream",
     "text": [
      "Enter a number : 5\n",
      "Factorial of the 5 is 120\n"
     ]
    }
   ],
   "source": [
    "# Python program to find the factorial of a number using recursion.\n",
    "import re\n",
    "def factorial(number):\n",
    "    if number <=1 :\n",
    "        return 1\n",
    "    return number*factorial(number-1)\n",
    "\n",
    "def getNumber(msg):\n",
    "    n = (input(msg))\n",
    "    match=re.match(\"[^0-9]+\",n)  \n",
    "    if not match:\n",
    "        return int(n)\n",
    "    else:\n",
    "        return getNumber(\"Enter a valid number : \")\n",
    "number = getNumber(\"Enter a number : \")\n",
    "\n",
    "print(f\"Factorial of the {number} is {factorial(number)}\")   "
   ]
  },
  {
   "cell_type": "code",
   "execution_count": 70,
   "id": "1c88a0ba",
   "metadata": {},
   "outputs": [
    {
     "name": "stdout",
     "output_type": "stream",
     "text": [
      "Enter the elements (Space Seperated) : 6 66 63 21 23 67 99 76 r rrs sds \n",
      "Enter Search Value : 0\n",
      "No\n"
     ]
    }
   ],
   "source": [
    "# Python program to implement linear search.\n",
    "\n",
    "array = input(\"Enter the elements (Space Seperated) : \").split()\n",
    "\n",
    "search = input(\"Enter Search Value : \")\n",
    "flag = False\n",
    "for i in array :\n",
    "    if i == search :\n",
    "        flag =True\n",
    "        break\n",
    "print(\"Yes\") if flag else print(\"No\")"
   ]
  },
  {
   "cell_type": "code",
   "execution_count": 84,
   "id": "290b3db2",
   "metadata": {},
   "outputs": [
    {
     "name": "stdout",
     "output_type": "stream",
     "text": [
      "Enter the numbers (Space Seperated) i sorted manner: 1 2 3 4 5 6 7 8\n",
      "Enter Search Value : 4\n",
      "Yes\n"
     ]
    }
   ],
   "source": [
    "#Python program to implement binary search.\n",
    "array = list(map(int,input(\"Enter the numbers (Space Seperated) in sorted manner: \").split()))\n",
    "\n",
    "search = int(input(\"Enter Search Value : \"))\n",
    "\n",
    "def binarySearh(arr ,l,r,search):\n",
    "    if r >=l:\n",
    "        mid =( l+(r-l))//2\n",
    "        if arr[mid]== search:\n",
    "            return \"Yes\"\n",
    "        elif arr[mid] < search :\n",
    "            return binarySearh(arr,l,mid-1,search)\n",
    "        else :\n",
    "            return binarySearh(arr,mid+1,r,search)\n",
    "    else:\n",
    "        return \"No\"\n",
    "    \n",
    "print(binarySearh(array,0, len(array)-1,search))"
   ]
  },
  {
   "cell_type": "code",
   "execution_count": 93,
   "id": "bebf97c8",
   "metadata": {},
   "outputs": [
    {
     "name": "stdout",
     "output_type": "stream",
     "text": [
      "Enter the numbers (Space Seperated): 1 2 3 4 5 6 7 8\n",
      "8\n"
     ]
    }
   ],
   "source": [
    "#Python program to find the largest number in a list without using built-in functions.\n",
    "lists = list(map(int,input(\"Enter the numbers (Space Seperated): \").split()))\n",
    "largestNumber = lists[0]\n",
    "for number in lists:\n",
    "    if largestNumber < number:\n",
    "        largestNumber = number\n",
    "print(largestNumber)\n"
   ]
  },
  {
   "cell_type": "code",
   "execution_count": 102,
   "id": "ade845d9",
   "metadata": {},
   "outputs": [
    {
     "name": "stdout",
     "output_type": "stream",
     "text": [
      "Enter the elements (Space Seperated): 1 2 3 4 5 6 7 8 9\n",
      "enter a index : 8\n",
      "['1', '2', '3', '4', '5', '6', '7', '8']\n"
     ]
    }
   ],
   "source": [
    "#Python program to delete an element from a list by index.\n",
    "\n",
    "elements = input(\"Enter the elements (Space Seperated): \").split()\n",
    "\n",
    "index = int(input(\"enter a index : \"))\n",
    "\n",
    "if len(elements)-1  < index :\n",
    "    print(\"invalid\")\n",
    "else:\n",
    "    elements = elements[0:index]+elements[index+1 :]\n",
    "    print(elements)\n",
    "\n",
    "    \n"
   ]
  },
  {
   "cell_type": "code",
   "execution_count": 108,
   "id": "2f08a2e9",
   "metadata": {},
   "outputs": [
    {
     "name": "stdout",
     "output_type": "stream",
     "text": [
      " Keys = Batch , Values = D25\n",
      " Keys = Duration , Values = 6\n",
      " Keys = Course , Values = Data Science\n",
      " Keys = Total no of students , Values = 40\n"
     ]
    }
   ],
   "source": [
    "#Python program to print all the items in a dictionary.\n",
    "\n",
    "dic ={'Batch':'D25' , 'Duration' :6 , 'Course':'Data Science' , \"Total no of students\":40}\n",
    "\n",
    "for keys,values in dic.items():\n",
    "    print(f\" Keys = {keys} , Values = {values}\")"
   ]
  },
  {
   "cell_type": "code",
   "execution_count": 110,
   "id": "6ba11889",
   "metadata": {},
   "outputs": [
    {
     "name": "stdout",
     "output_type": "stream",
     "text": [
      "Enter the numbers (Space Seperated): 1 1 1 1 1 1 1 1\n",
      "Average = 1.0\n"
     ]
    }
   ],
   "source": [
    "#Python program to find the average of 10 numbers using while loop.\n",
    "lists = list(map(int,input(\"Enter the numbers (Space Seperated): \").split()))\n",
    "\n",
    "print(f\"Average = {sum(lists) / len(lists)}\")\n"
   ]
  },
  {
   "cell_type": "code",
   "execution_count": null,
   "id": "531e9ea3",
   "metadata": {},
   "outputs": [],
   "source": []
  }
 ],
 "metadata": {
  "kernelspec": {
   "display_name": "Python 3",
   "language": "python",
   "name": "python3"
  },
  "language_info": {
   "codemirror_mode": {
    "name": "ipython",
    "version": 3
   },
   "file_extension": ".py",
   "mimetype": "text/x-python",
   "name": "python",
   "nbconvert_exporter": "python",
   "pygments_lexer": "ipython3",
   "version": "3.8.8"
  }
 },
 "nbformat": 4,
 "nbformat_minor": 5
}
