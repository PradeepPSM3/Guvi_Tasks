{
 "cells": [
  {
   "cell_type": "code",
   "execution_count": 3,
   "id": "29b84077",
   "metadata": {
    "scrolled": true
   },
   "outputs": [],
   "source": [
    "import pandas as pd\n",
    "df = pd.read_csv(\"takehome_users.csv\",encoding='latin-1')\n",
    "activity =  pd.read_csv(\"takehome_user_engagement.csv\")\n",
    "\n",
    "df[\"last_session_creation_time\"] = pd.to_datetime(df[\"last_session_creation_time\"])\n",
    "\n",
    "activity['time_stamp2'] = pd.to_datetime(activity['time_stamp'])"
   ]
  },
  {
   "cell_type": "code",
   "execution_count": 4,
   "id": "48f8b9da",
   "metadata": {},
   "outputs": [],
   "source": [
    "repeated_users=activity.groupby('user_id').filter(lambda x: len(x) >= 3)\n"
   ]
  },
  {
   "cell_type": "code",
   "execution_count": 5,
   "id": "363e2750",
   "metadata": {},
   "outputs": [],
   "source": [
    "grouped_users = repeated_users.groupby('user_id')\n"
   ]
  },
  {
   "cell_type": "code",
   "execution_count": 17,
   "id": "c0bbe569",
   "metadata": {},
   "outputs": [],
   "source": [
    "def active_users(period, days_logged, user):\n",
    "\tvisited = len(user.index)\n",
    "\ti, count = 0, 1\n",
    "\tactive_user = False\n",
    "\twhile count < days_logged:\t\t\n",
    "\t\tif (i+2) < visited:\n",
    "\t\t\tif (user['time_stamp2'].iloc[i + 1] - user['time_stamp2'].iloc[i]) <= pd.Timedelta(days=period) and (user['time_stamp2'].iloc[i + 1] - user['time_stamp2'].iloc[i]) > pd.Timedelta(days=1) :\n",
    "\t\t\t\tcount += 1\n",
    "\t\t\t\tnew_timeframe = (user['time_stamp2'].iloc[i + 1] - user['time_stamp2'].iloc[i])\n",
    "\t\t\t\tif (user['time_stamp2'].iloc[i + 2] - user['time_stamp2'].iloc[i + 1]) <= new_timeframe and (user['time_stamp2'].iloc[i + 2] - user['time_stamp2'].iloc[i + 1]) > pd.Timedelta(days=1):\n",
    "\t\t\t\t\tactive_user = True\n",
    "\t\t\t\t\tcount += 1\n",
    "\t\t\t\telse: \n",
    "\t\t\t\t\ti += 1\n",
    "\t\t\t\t\tcount = 1\n",
    "\t\t\telse:\n",
    "\t\t\t\ti += 1\n",
    "\t\t\t\tcount = 1\n",
    "\t\telse:\n",
    "\t\t\tcount = days_logged\n",
    "\treturn active_user"
   ]
  },
  {
   "cell_type": "code",
   "execution_count": 19,
   "id": "392da571",
   "metadata": {
    "scrolled": true
   },
   "outputs": [],
   "source": [
    "unique_active  = grouped_users.filter(lambda x: active_users(period=7, days_logged=3, user=x) ==True)"
   ]
  },
  {
   "cell_type": "code",
   "execution_count": 28,
   "id": "4776fe80",
   "metadata": {},
   "outputs": [],
   "source": [
    "unique_active = pd.DataFrame(pd.Series.unique(unique_active['user_id']))"
   ]
  },
  {
   "cell_type": "code",
   "execution_count": 42,
   "id": "405d9b3d",
   "metadata": {},
   "outputs": [
    {
     "data": {
      "text/html": [
       "<div>\n",
       "<style scoped>\n",
       "    .dataframe tbody tr th:only-of-type {\n",
       "        vertical-align: middle;\n",
       "    }\n",
       "\n",
       "    .dataframe tbody tr th {\n",
       "        vertical-align: top;\n",
       "    }\n",
       "\n",
       "    .dataframe thead th {\n",
       "        text-align: right;\n",
       "    }\n",
       "</style>\n",
       "<table border=\"1\" class=\"dataframe\">\n",
       "  <thead>\n",
       "    <tr style=\"text-align: right;\">\n",
       "      <th></th>\n",
       "      <th>user_id</th>\n",
       "      <th>adopted_user</th>\n",
       "    </tr>\n",
       "  </thead>\n",
       "  <tbody>\n",
       "    <tr>\n",
       "      <th>0</th>\n",
       "      <td>2</td>\n",
       "      <td>1</td>\n",
       "    </tr>\n",
       "    <tr>\n",
       "      <th>1</th>\n",
       "      <td>10</td>\n",
       "      <td>1</td>\n",
       "    </tr>\n",
       "    <tr>\n",
       "      <th>2</th>\n",
       "      <td>33</td>\n",
       "      <td>1</td>\n",
       "    </tr>\n",
       "    <tr>\n",
       "      <th>3</th>\n",
       "      <td>42</td>\n",
       "      <td>1</td>\n",
       "    </tr>\n",
       "    <tr>\n",
       "      <th>4</th>\n",
       "      <td>50</td>\n",
       "      <td>1</td>\n",
       "    </tr>\n",
       "    <tr>\n",
       "      <th>...</th>\n",
       "      <td>...</td>\n",
       "      <td>...</td>\n",
       "    </tr>\n",
       "    <tr>\n",
       "      <th>1610</th>\n",
       "      <td>11969</td>\n",
       "      <td>1</td>\n",
       "    </tr>\n",
       "    <tr>\n",
       "      <th>1611</th>\n",
       "      <td>11975</td>\n",
       "      <td>1</td>\n",
       "    </tr>\n",
       "    <tr>\n",
       "      <th>1612</th>\n",
       "      <td>11980</td>\n",
       "      <td>1</td>\n",
       "    </tr>\n",
       "    <tr>\n",
       "      <th>1613</th>\n",
       "      <td>11988</td>\n",
       "      <td>1</td>\n",
       "    </tr>\n",
       "    <tr>\n",
       "      <th>1614</th>\n",
       "      <td>11991</td>\n",
       "      <td>1</td>\n",
       "    </tr>\n",
       "  </tbody>\n",
       "</table>\n",
       "<p>1615 rows × 2 columns</p>\n",
       "</div>"
      ],
      "text/plain": [
       "      user_id  adopted_user\n",
       "0           2             1\n",
       "1          10             1\n",
       "2          33             1\n",
       "3          42             1\n",
       "4          50             1\n",
       "...       ...           ...\n",
       "1610    11969             1\n",
       "1611    11975             1\n",
       "1612    11980             1\n",
       "1613    11988             1\n",
       "1614    11991             1\n",
       "\n",
       "[1615 rows x 2 columns]"
      ]
     },
     "execution_count": 42,
     "metadata": {},
     "output_type": "execute_result"
    }
   ],
   "source": [
    "unique_active.columns =['user_id']\n",
    "unique_active['adopted_user'] = 1\n"
   ]
  },
  {
   "cell_type": "code",
   "execution_count": 41,
   "id": "e679bde1",
   "metadata": {},
   "outputs": [],
   "source": [
    "adopted_user_info = pd.merge(unique_active, df, how='outer',left_on='user_id', right_on='object_id')"
   ]
  },
  {
   "cell_type": "code",
   "execution_count": 44,
   "id": "222f3853",
   "metadata": {},
   "outputs": [],
   "source": [
    "adopted_user_info['adopted_user'] = adopted_user_info['adopted_user'].fillna(0)"
   ]
  },
  {
   "cell_type": "code",
   "execution_count": 45,
   "id": "29f551b1",
   "metadata": {},
   "outputs": [
    {
     "data": {
      "text/plain": [
       "144000"
      ]
     },
     "execution_count": 45,
     "metadata": {},
     "output_type": "execute_result"
    }
   ],
   "source": [
    "adopted_user_info.size"
   ]
  },
  {
   "cell_type": "code",
   "execution_count": 46,
   "id": "dfc447bb",
   "metadata": {},
   "outputs": [
    {
     "data": {
      "text/plain": [
       "12000"
      ]
     },
     "execution_count": 46,
     "metadata": {},
     "output_type": "execute_result"
    }
   ],
   "source": [
    "len(adopted_user_info)"
   ]
  },
  {
   "cell_type": "code",
   "execution_count": null,
   "id": "b86e8dd4",
   "metadata": {},
   "outputs": [],
   "source": []
  }
 ],
 "metadata": {
  "kernelspec": {
   "display_name": "Python 3 (ipykernel)",
   "language": "python",
   "name": "python3"
  },
  "language_info": {
   "codemirror_mode": {
    "name": "ipython",
    "version": 3
   },
   "file_extension": ".py",
   "mimetype": "text/x-python",
   "name": "python",
   "nbconvert_exporter": "python",
   "pygments_lexer": "ipython3",
   "version": "3.9.7"
  }
 },
 "nbformat": 4,
 "nbformat_minor": 5
}
